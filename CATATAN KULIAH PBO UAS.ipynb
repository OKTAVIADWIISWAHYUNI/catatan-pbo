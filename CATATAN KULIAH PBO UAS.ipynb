{
 "cells": [
  {
   "cell_type": "markdown",
   "metadata": {},
   "source": [
    "# class vs object\n",
    "![](/Gambar/class.png)\n",
    "-class adalah salah satu library python yang 'dicetak biru' atau 'blue print' dari object. Class hanya digunakan untuk kerangka dasar pada pemrograman untuk menciptakan suatu instance dari object.\n",
    "-object adalah instance dari class yang merupakan representasi nyata dar class itu sendiri.\n",
    "pada class terdapat property yang berisi data\n",
    "yang nantinya data yang ada akan diproses dan dipanggil di akhir oleh bagian yang disebut method \n",
    "-method sendiri merupakan suatu operasi berupa fungsi-fungsi yang dapat dikerjakan oleh suatu object,method didefinisikan pada class namun dipanggil pada object"
   ]
  },
  {
   "cell_type": "code",
   "execution_count": 11,
   "metadata": {},
   "outputs": [
    {
     "name": "stdout",
     "output_type": "stream",
     "text": [
      "6\n",
      "Luaspermukaan= 216\n",
      "Volume= 216\n"
     ]
    }
   ],
   "source": [
    "class Kubus:\n",
    "    def __init__(self,s):\n",
    "        self.sisi=s\n",
    "    def tampilkan(self):\n",
    "        print(self.sisi)\n",
    "    def luaspermukaan(self):\n",
    "        print(\"Luaspermukaan=\" ,self.sisi*self.sisi**2)\n",
    "    def volume(self):\n",
    "        print(\"Volume=\" ,self.sisi**3)\n",
    "Kubus1 = Kubus(6)\n",
    "Kubus1.tampilkan()\n",
    "Kubus1.luaspermukaan()\n",
    "Kubus1.volume()"
   ]
  },
  {
   "cell_type": "markdown",
   "metadata": {},
   "source": [
    "Pada materi class vs object menjelaskan tentang bagiamana suatu program bisa menampilkan hasil akhir hanya dengan memanggil definisi pada awal program yang sudah diberi gambaran pada classnya lalu diberi data dan diproses.\n",
    "keyword class diikuti dengan nama class yang kita inginkan . lebih baik kata yang diawali dengan huruf kapital \n",
    "constructor menggunakan method bawaan python yang bernama init\n",
    "metode __init__ sendiri merupakan metode komstruktor,yaitu metode khusus yang digunakan Python untuk menginisialisasi pembuatan objek dari kelas tersebut\n",
    "setiap method harus memiliki parameter self yang artinya method tersebut dimiliki dan terdaftar ke class tersebut untk membedakan dari method atau fungsi yang ada di luar class."
   ]
  },
  {
   "cell_type": "code",
   "execution_count": 10,
   "metadata": {},
   "outputs": [
    {
     "name": "stdout",
     "output_type": "stream",
     "text": [
      "Nama    :  Oktavia Dwi Iswahyuni\n",
      "NIM     :  1804411000\n",
      "IPK     :  3.0\n"
     ]
    }
   ],
   "source": [
    "class mahasiswa:\n",
    "    def __init__ (self, nama, nim, ipk):\n",
    "        self.nama = nama\n",
    "        self.nim = nim\n",
    "        self.ipk = ipk\n",
    "        \n",
    "        print(\"Nama    : \",self.nama)\n",
    "        print(\"NIM     : \",self.nim)\n",
    "        print(\"IPK     : \",self.ipk)\n",
    "        \n",
    "\n",
    "mhs1 = mahasiswa (\"Oktavia Dwi Iswahyuni\",\"1804411000\",3.0)"
   ]
  },
  {
   "cell_type": "markdown",
   "metadata": {},
   "source": [
    "# Inheritance dan Type of Inheritance\n",
    "-Inheritance atau pewarisan /penurunan adalah konsep pemrograman dimana sebuah class dapat menurunkan property dan method yang dimiliki kepada class lain.\n",
    "konsep inheritance membuat sebuah struktur class dalam kode program. class yang akan diturunkan bisa disebut sebagai class induk,super class,atau base class.sedangkan, class yang menerima penurunan bisa disebut sebagai class anak ,sub class atau heir class \n",
    "tidak semua property dan method dari kelas induk bisa diturunkan .property dan method dengan hak akses private tidak akan diturunkan ke class anak\n",
    "![](/Gambar/inher.png)"
   ]
  },
  {
   "cell_type": "markdown",
   "metadata": {},
   "source": []
  },
  {
   "cell_type": "code",
   "execution_count": 4,
   "metadata": {},
   "outputs": [
    {
     "name": "stdout",
     "output_type": "stream",
     "text": [
      "TerryFish\n",
      "The Fish Is Swimming.\n",
      "The Fish Can Swim backwards.\n"
     ]
    }
   ],
   "source": [
    "#Default\n",
    "class Fish:\n",
    "    def __init__(self,first_name,last_name=\"Fish\"):\n",
    "        self.first_name = first_name\n",
    "        self.last_name = last_name\n",
    "    \n",
    "    def swim(self):\n",
    "        print(\"The Fish Is Swimming.\")\n",
    "    def swim_backwards(self):\n",
    "        print(\"The Fish Can Swim backwards.\")\n",
    "        \n",
    "class Trout(Fish):\n",
    "    pass\n",
    "\n",
    "\n",
    "        \n",
    "terry = Trout(\"Terry\")\n",
    "print(terry.first_name +\"\"+terry.last_name)\n",
    "terry.swim()\n",
    "terry.swim_backwards()\n"
   ]
  },
  {
   "cell_type": "markdown",
   "metadata": {},
   "source": [
    "Default merupakan konstruktor tanpa parameter yang akan menginisialisasi variabel instance sesuai dengan type datanya menggunakan pass"
   ]
  },
  {
   "cell_type": "code",
   "execution_count": 5,
   "metadata": {},
   "outputs": [
    {
     "name": "stdout",
     "output_type": "stream",
     "text": [
      "The Fish Is Swimming.\n",
      "The Fish Can Swim backwards.\n"
     ]
    }
   ],
   "source": [
    "#Overriding\n",
    "class Fish:\n",
    "    def __init__(self,first_name,last_name=\"Fish\"):\n",
    "        self.first_name = first_name\n",
    "        self.last_name = last_name\n",
    "    \n",
    "    def swim(self):\n",
    "        print(\"The Fish Is Swimming.\")\n",
    "    def swim_backwards(self):\n",
    "        print(\"The Fish Can Swim backwards.\")\n",
    "fs=Fish(\"clown,fish\")\n",
    "fs.swim()\n",
    "fs.swim_backwards()\n",
    "\n"
   ]
  },
  {
   "cell_type": "markdown",
   "metadata": {},
   "source": [
    "Overriding adalah ketika super class memiliki method dan kemudian method tersebut dideklarasikan pada sub class "
   ]
  },
  {
   "cell_type": "code",
   "execution_count": 2,
   "metadata": {},
   "outputs": [
    {
     "name": "stdout",
     "output_type": "stream",
     "text": [
      "Nama : Persegi empat\n",
      "Warna : biru\n",
      "Jumlah Garis : 4\n",
      "Nama : Persegi empat\n",
      "Warna : merah\n",
      "Jumlah Garis : 4\n",
      "Nama : Persegi empat\n",
      "Warna : biru\n",
      "Jumlah Garis : 4\n",
      "Nama : Lingkaran\n",
      "Warna : blue\n",
      "Jumlah Garis : 0\n",
      "Nama : Lingkaran\n",
      "Warna : red\n",
      "Jumlah Garis : 0\n",
      "Nama : Lingkaran\n",
      "Warna : green\n",
      "Jumlah Garis : 0\n",
      "Nama : Segitiga\n",
      "Warna : blue\n",
      "Jumlah Garis : 3\n",
      "Nama : Segitiga\n",
      "Warna : red\n",
      "Jumlah Garis : 3\n",
      "Nama : Segitiga\n",
      "Warna : grey\n",
      "Jumlah Garis : 3\n"
     ]
    }
   ],
   "source": [
    "# Super\n",
    "class shape:\n",
    "    def __init__(self,nama,warna,jumlah_garis):\n",
    "        self.nama = nama\n",
    "        self.warna = warna\n",
    "        self.jumlah_garis = jumlah_garis\n",
    "    def show(self):\n",
    "        raise NotImplementedError(\"subclass must implement abstract method\")\n",
    "class retange(shape):\n",
    "    def __init__(self,nama,warna,jumlah_garis):\n",
    "        super().__init__(nama,warna,jumlah_garis)\n",
    "    def show(self):\n",
    "        print(\"Nama :\",self.nama)\n",
    "        print(\"Warna :\",self.warna)\n",
    "        print(\"Jumlah Garis :\",self.jumlah_garis)\n",
    "class circle(shape):\n",
    "    def __init__(self,nama,warna,jumlah_garis):\n",
    "        super().__init__(nama,warna,jumlah_garis)\n",
    "    def show(self):\n",
    "        print(\"Nama :\",self.nama)\n",
    "        print(\"Warna :\",self.warna)\n",
    "        print(\"Jumlah Garis :\",self.jumlah_garis)\n",
    "class triangel(shape):\n",
    "    def __init__(self,nama,warna,jumlah_garis):\n",
    "        super().__init__(nama,warna,jumlah_garis)\n",
    "    def show(self):\n",
    "        print(\"Nama :\",self.nama)\n",
    "        print(\"Warna :\",self.warna)\n",
    "        print(\"Jumlah Garis :\",self.jumlah_garis)\n",
    "prn1=retange(\"Persegi empat\",\"biru\",\"4\")\n",
    "prn2=retange(\"Persegi empat\",\"merah\",\"4\")\n",
    "prn3=retange(\"Persegi empat\",\"biru\",\"4\")\n",
    "prn4=circle(\"Lingkaran\",\"blue\",\"0\")\n",
    "prn5=circle(\"Lingkaran\",\"red\",\"0\")\n",
    "prn6=circle(\"Lingkaran\",\"green\",\"0\")\n",
    "prn7=triangel(\"Segitiga\",\"blue\",\"3\")\n",
    "prn8=triangel(\"Segitiga\",\"red\",\"3\")\n",
    "prn9=triangel(\"Segitiga\",\"grey\",\"3\")\n",
    "\n",
    "for bentuk in (prn1,prn2,prn3,prn4,prn5,prn6,prn7,prn8,prn9):\n",
    "    bentuk.show()\n",
    "    "
   ]
  },
  {
   "cell_type": "markdown",
   "metadata": {},
   "source": [
    "Super class untuk memanggil konstruktor dan method oleh subclass yang dimiliki oleh superclass\n",
    "-bentuk umum untuk memanggil konstruktor :\n",
    "super().__init__(self)"
   ]
  },
  {
   "cell_type": "code",
   "execution_count": 9,
   "metadata": {},
   "outputs": [
    {
     "name": "stdout",
     "output_type": "stream",
     "text": [
      "nama mule : bobo\n",
      "jenisrambut : lurus\n",
      "berat : 25\n",
      "==========================\n",
      "nama kuda : nena\n",
      "jenisrambut : lurus\n",
      "=========================\n",
      "nama keledai : nini\n",
      "berat : gelombang\n"
     ]
    }
   ],
   "source": [
    "#multiple choice\n",
    "class kuda:\n",
    "    def __init__(self,nama,jenisrambut):\n",
    "        self.nama = nama\n",
    "        self.jenisrambut = jenisrambut\n",
    "    def tampilan(self):\n",
    "        print(\"nama kuda :\",self.nama)\n",
    "        print(\"jenisrambut :\",self.jenisrambut)\n",
    "        \n",
    "class keledai:\n",
    "    def __init__(self,nama,berat_badan):\n",
    "        self.nama = nama\n",
    "        self.berat_badan = berat_badan\n",
    "    def tampilan(self):\n",
    "        print(\"nama keledai :\",self.nama)\n",
    "        print(\"berat :\",self.berat_badan)\n",
    "        \n",
    "class mule(kuda,keledai):\n",
    "    def __init__(self,nama,jenisrambut,berat_badan):\n",
    "        kuda.__init__(self,nama,jenisrambut)\n",
    "        keledai.__init__(self,nama,berat_badan)\n",
    "    def tampilanproperti(self):\n",
    "        print(\"nama mule :\",self.nama)\n",
    "        print(\"jenisrambut :\",self.jenisrambut)\n",
    "        print(\"berat :\",self.berat_badan)\n",
    "        \n",
    "mule = mule(\"bobo\",\"lurus\",\"25\")\n",
    "mule.tampilanproperti()\n",
    "print(\"==========================\")\n",
    "kuda = kuda(\"nena\",\"lurus\")\n",
    "kuda.tampilan()\n",
    "print(\"=========================\")\n",
    "keledai=keledai(\"nini\",\"gelombang\")\n",
    "keledai.tampilan() \n"
   ]
  },
  {
   "cell_type": "markdown",
   "metadata": {},
   "source": [
    "Multiple Inheritance (Pewarisan Jamak)\n",
    "Kelas yang diturunkan lebih dari satu kelas yang berbeda(jumlah kelas dasarnya lebih dari satu)"
   ]
  },
  {
   "cell_type": "markdown",
   "metadata": {},
   "source": [
    "# Polymorpishm\n",
    "![](/Gambar/polymorpishm.png)\n",
    "Polymorphism adalah suatu object dapat memiliki berbagai bentuk, sebagai object dari class sendiri atau object dari superclassnya dan memiliki kemampuan suatu method untuk bekerja dengan lebih dari satu tipe argumen.\n",
    "konsep ini memungkinkan digunakannya suatu interface yang sama untuk memerintah objek agar melakukan aksi atau tindakan yang mungkin secara prinsip sama namun secara proses berbeda.\n",
    "Ada keterkaitan antara polymorphism dan inheritance (turunan).\n",
    "Dalam konsep turunan, saat obyek dari subclass dikonstruksi, obyek dari superclass juga ikut dikonstruksi."
   ]
  },
  {
   "cell_type": "code",
   "execution_count": 6,
   "metadata": {},
   "outputs": [
    {
     "name": "stdout",
     "output_type": "stream",
     "text": [
      "The shark's skeleton is made of catlage.\n",
      "The clownfish's skeleton is made of bone.\n",
      "The shark is swimming.\n",
      "The clownfish is swimming\n",
      "The shark is swimming.\n",
      "The shark cannot swmim backwads,but can sink backwards.\n",
      "The shark's skeleton is made of catlage.\n",
      "The clownfish is swimming\n",
      "The clownfish cannot swim backwads\n",
      "The clownfish's skeleton is made of bone.\n"
     ]
    }
   ],
   "source": [
    "#Polymorpishm with a function\n",
    "class Shark():\n",
    "    def swim(self):\n",
    "        print(\"The shark is swimming.\")\n",
    "    def swim_backwards(self):\n",
    "        print(\"The shark cannot swmim backwads,but can sink backwards.\")\n",
    "    def skeleton(self):\n",
    "        print(\"The shark's skeleton is made of catlage.\")\n",
    "class Clownfish():\n",
    "    def swim(self):\n",
    "        print(\"The clownfish is swimming\")\n",
    "    def swim_backwards(self):\n",
    "        print(\"The clownfish cannot swim backwads\")\n",
    "    def skeleton(self):\n",
    "        print(\"The clownfish's skeleton is made of bone.\")\n",
    "        \n",
    "sammy = Shark()\n",
    "sammy.skeleton()\n",
    "casey = Clownfish()\n",
    "casey.skeleton()\n",
    "def in_the_pacific(fish):\n",
    "    fish.swim()\n",
    "    \n",
    "in_the_pacific(sammy)\n",
    "in_the_pacific(casey)\n",
    "\n",
    "sammy = Shark()\n",
    "casey = Clownfish()\n",
    "for fish in(sammy,casey):\n",
    "    fish.swim()\n",
    "    fish.swim_backwards()\n",
    "    fish.skeleton()\n"
   ]
  },
  {
   "cell_type": "markdown",
   "metadata": {},
   "source": [
    ">>Polymorpishm with a function merupakan program pada polimor dengan menggunakan fungsi untuk pemanggilan programnya maka\n",
    "hasil yang keluar pada output sesuai dengan apa yang diinputkan pada fugsi didalam program tersebut."
   ]
  },
  {
   "cell_type": "code",
   "execution_count": 7,
   "metadata": {},
   "outputs": [
    {
     "name": "stdout",
     "output_type": "stream",
     "text": [
      "Documents1:show Pdf contents!\n",
      "Documents2:show Pdf contents!\n",
      "Documents3:show word contents!\n"
     ]
    }
   ],
   "source": [
    "#Polymorpishm with a method\n",
    "class Document:\n",
    "    def __init__(self,name):\n",
    "        self.name = name\n",
    "        \n",
    "    def show(self):\n",
    "        raiseNotImplementedError(\"Subclass must implement abstract method\")\n",
    "class Pdf(Document):\n",
    "    def show(self):\n",
    "        return'show Pdf contents!'\n",
    "class Word(Document):\n",
    "    def show(self):\n",
    "        return'show word contents!'\n",
    "    \n",
    "documents = [Pdf('Documents1'),\n",
    "            Pdf('Documents2'),\n",
    "            Word('Documents3')]\n",
    "\n",
    "for document in documents:\n",
    "    print(document.name+':'+document.show())"
   ]
  },
  {
   "cell_type": "markdown",
   "metadata": {},
   "source": [
    ">>Polymorpishm with a method merupakan program pada polimor dengan memangil program pada methodnya"
   ]
  },
  {
   "cell_type": "code",
   "execution_count": 8,
   "metadata": {},
   "outputs": [
    {
     "name": "stdout",
     "output_type": "stream",
     "text": [
      "Kucing : Berjalan dengan menggunakan empat kaki\n",
      "Kucing : Bersuara mengeong\n",
      "Anjing : Berjalan dengan menggunakan empat kaki\n",
      "Anjing : Bersuara dengan menggonggong\n",
      "Ular : Berjalan melata\n",
      "Ular : Bersuara ststsstttssss\n"
     ]
    }
   ],
   "source": [
    "#Polymorpishm with a abstract class\n",
    "class binatang():\n",
    "    def __init__(self,nama):\n",
    "        self.nama = nama\n",
    "    def caraberjalan(self):\n",
    "        raise NotImplementedError(\"ini Abstrak Class\")\n",
    "    def carabersuara(self):\n",
    "        raise NotImplementedError(\"ini Abstrak Class\")\n",
    "class kucing(binatang):\n",
    "    def caraberjalan(self):\n",
    "        return(\"Berjalan dengan menggunakan empat kaki\")\n",
    "    def carabersuara(self):\n",
    "        return(\"Bersuara mengeong\")\n",
    "class anjing(binatang):\n",
    "    def caraberjalan(self):\n",
    "        return(\"Berjalan dengan menggunakan empat kaki\")\n",
    "    def carabersuara(self):\n",
    "        return(\"Bersuara dengan menggonggong\")\n",
    "class ular(binatang):\n",
    "    def caraberjalan(self):\n",
    "        return(\"Berjalan melata\")\n",
    "    def carabersuara(self):\n",
    "        return(\"Bersuara ststsstttssss\")\n",
    "    \n",
    "\n",
    "binatangs=[kucing(\"Kucing\"),anjing(\"Anjing\"),ular(\"Ular\")]\n",
    "for binatang in binatangs:\n",
    "    print(binatang.nama+\" : \"+binatang.caraberjalan())\n",
    "    print(binatang.nama+\" : \"+binatang.carabersuara())\n",
    "    "
   ]
  },
  {
   "cell_type": "markdown",
   "metadata": {},
   "source": [
    ">>Polymorpishm dengan abstract class adalah penggunaan abstract class pada awal programnya dan pemanggilan ulang dengan return pada definisi selanjutnya\n",
    "\n",
    "Polymorphism adalah suatu object dapat memiliki berbagai bentuk, sebagai object dari class sendiri atau object dari superclassnya.\n",
    "\n",
    "Overloading: Penggunaan satu nama untuk beberapa method yang berbeda (beda parameter)\n",
    "Overriding: terjadi ketika deklarasi method subclass dengan nama dan parameter yang sama dengan method dari superclassnya.\n",
    "Ada 2 tipe polymorphism, yaitu:\n",
    "1. Static atau trivial\n",
    "merupakan, function overloading (penggunaan kembali nama fungi yang sama tapi dgn argumen yang berbeda) yang terbagi dalam 3 signature yaitu:\n",
    "\n",
    "– Jenis Array\n",
    "– Letak Array\n",
    "– Type Array\n",
    "\n",
    "Contoh function overloading :\n",
    "void tambah (int a, int b);\n",
    "void tambah(float d, float c);\n",
    "\n",
    "Dynamic atau true\n",
    "Merupakan function overriding (sebuah fungsi dalam class turunan yang memiliki nama, return type argumen function yang sama dengan fungsi dalam class induk). Menggunakan virtual method.\n",
    "\n",
    "Pure Virtual Method (tanpa function body)\n",
    "\n",
    "contoh : virtual void jalan() = 0;\n",
    "\n",
    "Squasi Virtual Method (ada function body)\n",
    "\n",
    "contoh : virtual void info() {;}"
   ]
  },
  {
   "cell_type": "markdown",
   "metadata": {},
   "source": [
    "# 06. Operator dan Method Overloading\n"
   ]
  },
  {
   "attachments": {},
   "cell_type": "markdown",
   "metadata": {},
   "source": [
    "![](Gambar/images%20operator%20overloading.png)"
   ]
  },
  {
   "cell_type": "code",
   "execution_count": 5,
   "metadata": {},
   "outputs": [
    {
     "name": "stdout",
     "output_type": "stream",
     "text": [
      "5\n",
      "2\n"
     ]
    }
   ],
   "source": [
    "def bilangan (x,y):\n",
    "    p = x-y\n",
    "    print(p)\n",
    "    \n",
    "def bilangans (x,y,z):\n",
    "    p = x-y-z\n",
    "    print(p)\n",
    "    \n",
    "bilangan(10,5)\n",
    "\n",
    "bilangans(10,5,3)\n"
   ]
  },
  {
   "cell_type": "markdown",
   "metadata": {},
   "source": [
    "OPERATOR OVERLOADING \n",
    "Yang dimaksud dengan operator overloading adalah menambah fungsi dari operator normal jika digunakan pada tipe data yang didefinisikan oleh user (user-defined data types). Hanya operator yang bersifat predefined yang dapat di overload. Dengan menggunakan operator overloading maka user dapat memahami notasi dengan lebih mudah daripada dengan menggunakan fungsi karena lebih mendekati implementasi sebenarnya.\n",
    "Operator overloading berfungsi untuk memudahkan operasi berbagai type data sesuai dengan kebutuhan yang melibatkan operasi yang melibatkan suatu object class.\n",
    "Terdapat beberapa operator yang tidak dapat dilakukan overloading yaitu :\n",
    ". ( operator dot ), .* ( operator pointer ke anggota )\n",
    ":: ( operator resolusi lingkup )\n",
    "?: ( operator ungkapan kondisi )\n",
    " sizeof ( operator untuk memperoleh ukuran data).\n",
    "Walaupun suatu operator telah dilakukan overloading, ada sifat yang tidak berubah yaitu kaidah pemakain operator dan prioritas operator."
   ]
  },
  {
   "cell_type": "code",
   "execution_count": 9,
   "metadata": {},
   "outputs": [
    {
     "name": "stdout",
     "output_type": "stream",
     "text": [
      "410\n",
      "tensor\n"
     ]
    }
   ],
   "source": [
    "print(10+400)\n",
    "print(\"ten\"\"sor\")"
   ]
  },
  {
   "cell_type": "markdown",
   "metadata": {},
   "source": []
  },
  {
   "cell_type": "markdown",
   "metadata": {},
   "source": [
    "-Function overloading adalah suatu proses menggunakan nama yang sama untuk dua atau lebih fungsi. Setiap definisi ulang dari fungsi yang di overloading harus menggunakan tipe parameter, urutan parameter, atau jumlah parameter yang berbeda."
   ]
  },
  {
   "cell_type": "markdown",
   "metadata": {},
   "source": [
    "-Method Overloading adalah sebuah kemampuan yang membolehkan sebuah class mempunyai 2 atau lebih method dengan nama yang sama, yang membedakan adalah parameternya."
   ]
  },
  {
   "cell_type": "code",
   "execution_count": 7,
   "metadata": {},
   "outputs": [
    {
     "name": "stdout",
     "output_type": "stream",
     "text": [
      "15\n",
      "HiBeloo\n"
     ]
    }
   ],
   "source": [
    "def add(datatype,*args):\n",
    "    if datatype =='int':\n",
    "        answer=0\n",
    "        \n",
    "    if datatype=='str':\n",
    "        answer=\"\"\n",
    "        \n",
    "    for x in args:\n",
    "        \n",
    "        answer=answer+x\n",
    "        \n",
    "    print(answer)\n",
    "#Integer\n",
    "add('int',10,5)\n",
    "#String\n",
    "add('str','Hi','Beloo')"
   ]
  },
  {
   "cell_type": "code",
   "execution_count": 8,
   "metadata": {},
   "outputs": [
    {
     "name": "stdout",
     "output_type": "stream",
     "text": [
      "Pusss\n",
      "PussssMeonggg\n"
     ]
    }
   ],
   "source": [
    "class Binatang:\n",
    "    def sayHello(self,name = None):\n",
    "        if name is not None:\n",
    "            print('Pussss'+name)\n",
    "        else:\n",
    "            print('Pusss')\n",
    "#Create instance\n",
    "obj = Binatang()\n",
    "#Call the method\n",
    "obj.sayHello()\n",
    "#Call the method with a parameter\n",
    "obj.sayHello('Meonggg')"
   ]
  },
  {
   "attachments": {},
   "cell_type": "markdown",
   "metadata": {},
   "source": [
    "![](Gambar/magic%20method.jpg)\n",
    "Terdapat beberapa method yang disebut dengan magic method. Nama method-method ini diawali dengan “__” (dobel underscore).\n",
    "method-method magic seperti berikut ini:\n",
    "\n",
    "__construct()\n",
    "Method ini akan diakses pada saat pembuatan object.\n",
    "  \n",
    "__destruct()\n",
    "Method ini akan diakses saat object dihapus.\n",
    " \n",
    "__call()\n",
    "Method ini akan diakses saat object menjalankan method yang invisible atau tidak didefinisikan \n",
    " \n",
    "__callStatic()\n",
    "Method ini akan diakses jika kita menjalankan suatu static method yang invisible atau tidak didefinisikan\n",
    "  \n",
    "__get()\n",
    "Method ini akan diakses jika program ingin mengambil nilai dari property yang invisible.\n",
    " \n",
    "__set()\n",
    "Method ini akan diakses jika program ingin memberikan nilai dari suatu property yang inivisible.\n",
    " \n",
    "__isset()\n",
    "Method ini akan diakses jika program menjalankan isset() atau empty() pada property yang tidak bisa diakses.\n",
    " \n",
    "__unset()\n",
    "Method ini akan diakses jika program menjalankan unset() pada property yang tidak bisa diakses.\n",
    "  \n",
    "__sleep()\n",
    "Berhubungan dengan serialisasi object.\n",
    " \n",
    "__wakeup()\n",
    " Berhubungan dengan unserialisasi object.\n",
    " \n",
    "__toString()\n",
    "Method ini akan diakses jika kita memperlakukan class sebagai string.\n",
    " \n",
    "__invoke()\n",
    "Method ini akan diakses jika program memperlakukan object sebagai function.\n",
    "  \n",
    "__set_state()\n",
    " \n",
    "__clone()\n",
    "Method ini berhubungan dengan cloning object. Saat selesai proses cloning object, method ini akan dijalankan.\n",
    " \n",
    "__debugInfo()\n",
    "Method ini akan diakses jika program menjalankan var_dump() pada suatu object."
   ]
  },
  {
   "cell_type": "code",
   "execution_count": 16,
   "metadata": {},
   "outputs": [
    {
     "name": "stdout",
     "output_type": "stream",
     "text": [
      "Point object is at:(3,1)\n",
      "Point object is at:(1,5)\n"
     ]
    }
   ],
   "source": [
    "class point:\n",
    "    def __init__(self,x=0,y=0):\n",
    "        self.x = x\n",
    "        self.y = y\n",
    "    #def __str__(self):\n",
    "     #return\"({0},{1})\".format(self.x,self.y)\n",
    "    def __str__(self):\n",
    "        return\"Point object is at:(\"+str(self.x)+\",\"+str(self.y)+\")\"\n",
    "    def __sub__(self,other):\n",
    "        x = self.x - other.x\n",
    "        y = self.y - other.y\n",
    "        return point(x,y)\n",
    "    def __add__(self,other):\n",
    "        x = self.x + other.x\n",
    "        y = self.y + other.y\n",
    "        return point(x,y)\n",
    "        \n",
    "        \n",
    "p1=point(2,3)\n",
    "p2=point(-1,2)\n",
    "print(p1-p2)\n",
    "print(p1+p2)"
   ]
  },
  {
   "cell_type": "code",
   "execution_count": 17,
   "metadata": {},
   "outputs": [
    {
     "name": "stdout",
     "output_type": "stream",
     "text": [
      "2/4\n",
      "6/8\n",
      "-2/8\n",
      "2/4\n",
      "1/8\n"
     ]
    }
   ],
   "source": [
    "class Fraction():\n",
    "    def __init__(self,top,bottom):\n",
    "        self.num = top\n",
    "        self.den = bottom\n",
    "    #def show(self)\n",
    "     #print(self.num)+\"/\"+str(self.den)\n",
    "        \n",
    "    def __str__(self):\n",
    "        return str(self.num)+\"/\"+str(self.den)\n",
    "        \n",
    "    def __add__(self,otherfraction):\n",
    "        newnum = self.num*otherfraction.den + self.den*otherfraction.num\n",
    "        newden = self.den*otherfraction.den\n",
    "        return Fraction(newnum,newden)\n",
    "    def __sub__(self,otherfraction):\n",
    "        newnum = self.num*otherfraction.den - self.den*otherfraction.num\n",
    "        newden = self.den*otherfraction.den\n",
    "        return Fraction(newnum,newden)\n",
    "    def __truediv__(self,otherfraction):\n",
    "        newnum = self.num*otherfraction.den\n",
    "        newden = self.den*otherfraction.num\n",
    "        return Fraction(newnum,newden)\n",
    "    def __mul__(self,otherfraction):\n",
    "        newnum=self.num*otherfraction.num\n",
    "        newden = self.den*otherfraction.den\n",
    "        return Fraction(newnum,newden)\n",
    "\n",
    "f=Fraction(2,4)\n",
    "#Show(f)\n",
    "print(f)\n",
    "\n",
    "f1=Fraction(1,4)\n",
    "f2=Fraction(1,2)\n",
    "print(f1+f2)\n",
    "print(f1-f2)\n",
    "print(f1/f2)\n",
    "print(f1*f2)"
   ]
  },
  {
   "attachments": {},
   "cell_type": "markdown",
   "metadata": {},
   "source": [
    "# Encapsulation\n",
    "![](Gambar/encapsul.png)\n",
    "Maksud dari encapsulation adalah membungkus class dan menjaga apa saja yang ada didalam class tersebut, baik method ataupun atribut, agar tidak dapat di akses oleh class lainnya. Untuk menjaga hal tersebut dalam Encapsulation dikenal nama Hak Akses Modifier yang terdiri dari :\n",
    "\n",
    "a.Private =  memberikan hak akses hanya pada class itu sendiri, artinya apa-apa saja yang ada di dalam class A baik itu method ataupun atribut hanya bisa diakses oleh class A saja, class lain tidak bisa mengaksesnya.\n",
    "\n",
    "b.Public = memberikan hak akses kepada atribut atau method agar bisa diakses oleh siapapun (property atau class lain diluar class yang bersangkutan), artinya method atau atribut yang ada diclass A dapat diakses oleh siapaun baik itu class A, class B dan seterusnya.\n",
    "\n",
    "c.Protected = memberikan hak akses kepada class itu sendiri dan class hasil turunannya (inheritance), artinya apa apa saja yang ada diclass A hanya bisa diakses oleh class A sendiri dan class yang meng Extends class A. Namun harus dipahami class lain yang berada dalam satu package dengan class A mampu mengakses tipe data protected, Sedangkan yang tidak mampu mengakses adalah class-class yang berada diluar package class A. untuk dapat mengaksesnya, class yang berada diluar package class A harus meng extends class A.\n"
   ]
  },
  {
   "cell_type": "code",
   "execution_count": 1,
   "metadata": {},
   "outputs": [
    {
     "name": "stdout",
     "output_type": "stream",
     "text": [
      "This Is a public method\n",
      "This is a private method\n",
      "This is a another private Method\n"
     ]
    }
   ],
   "source": [
    "class A(object):\n",
    "    \n",
    "    \n",
    "    #public method\n",
    "    def myPublicMethod(self):\n",
    "        return\"This Is a public method\"\n",
    "    \n",
    "    #private method with single_underscore\n",
    "    def _myPrivateMethod(self):\n",
    "        return\"This is a private method\"\n",
    "    \n",
    "    #private method with double_underscore\n",
    "    def __myAnotherPrivateMethod(self):\n",
    "        return\"This is a another private Method\"\n",
    "\n",
    "#nama object\n",
    "obj=A()\n",
    "#we can acces the public method which is cool!!!\n",
    "print(obj.myPublicMethod())#Output:this is a public method\n",
    "#Note that we can also acces the private method from outside\n",
    "print(obj._myPrivateMethod())#Output:this is a private method\n",
    "#however,you can still call the double underscore method\n",
    "#by appending the_class name before method name\n",
    "print(obj._A__myAnotherPrivateMethod())"
   ]
  },
  {
   "cell_type": "code",
   "execution_count": 2,
   "metadata": {},
   "outputs": [
    {
     "name": "stdout",
     "output_type": "stream",
     "text": [
      "123\n",
      "123\n",
      "123\n"
     ]
    }
   ],
   "source": [
    "class Robot(object):\n",
    "    def __init__(self):\n",
    "        self.a=123\n",
    "        self._b=123\n",
    "        self.__c=123\n",
    "        \n",
    "obj=Robot()\n",
    "print(obj.a)\n",
    "print(obj._b)\n",
    "print(obj._Robot__c)"
   ]
  },
  {
   "cell_type": "code",
   "execution_count": 3,
   "metadata": {},
   "outputs": [
    {
     "name": "stdout",
     "output_type": "stream",
     "text": [
      "updating software\n",
      "driving\n",
      "driving\n"
     ]
    }
   ],
   "source": [
    "class Car:\n",
    "    def __init__(self):\n",
    "        self.__updateSoftware()\n",
    "        \n",
    "    def drive(self):\n",
    "        print('driving')\n",
    "        \n",
    "    def __updateSoftware(self):\n",
    "        print('updating software')\n",
    "        \n",
    "redcar=Car()\n",
    "redcar.drive()\n",
    "redcar.__maxspeed=10 \n",
    "redcar.drive()\n",
    "\n",
    "\n",
    "#redcar.__updateSoftware()not accesible from object.                   redcar._Car__updateSoftware()"
   ]
  },
  {
   "cell_type": "code",
   "execution_count": 4,
   "metadata": {},
   "outputs": [
    {
     "name": "stdout",
     "output_type": "stream",
     "text": [
      "driving.maxspeed200\n",
      "driving.maxspeed10\n"
     ]
    }
   ],
   "source": [
    "class Car:\n",
    "    __maxspeed=0\n",
    "    __name=\"\"\n",
    "    \n",
    "    def __init__(self):\n",
    "        self.__maxspeed=200\n",
    "        self.__name=\"Supercar\"\n",
    "        \n",
    "    def drive(self):\n",
    "        print('driving.maxspeed'+str(self.__maxspeed))\n",
    "        \n",
    "    def setMaxSpeed(self,speed):\n",
    "        self. __maxspeed=speed\n",
    "        \n",
    "redcar=Car()\n",
    "redcar.drive()\n",
    "redcar.setMaxSpeed(10)\n",
    "redcar.drive()"
   ]
  },
  {
   "cell_type": "markdown",
   "metadata": {},
   "source": [
    "pengkapsulan dapat dilakukan dengan pembentukan kelas-kelas menggunakan keyword class. Sedangkan penyembunyian informasi dapat dilakukan dengan pengendalian terhadap pengaksesan pembentuk kelas dengan keyword-keyword untuk kendali pengaksesan default, private, protected, dan public. Penyembunyian informasi deilakukan dengan implementasi penerapan kendari menggunakan keyword private dan protected pada elemen data.\n",
    "Dengan enkapsulasi, kita bisa memilih property dan method apa saja yang boleh diakses, dan mana yang tidak boleh diakses."
   ]
  }
 ],
 "metadata": {
  "kernelspec": {
   "display_name": "Python 3",
   "language": "python",
   "name": "python3"
  },
  "language_info": {
   "codemirror_mode": {
    "name": "ipython",
    "version": 3
   },
   "file_extension": ".py",
   "mimetype": "text/x-python",
   "name": "python",
   "nbconvert_exporter": "python",
   "pygments_lexer": "ipython3",
   "version": "3.7.1"
  }
 },
 "nbformat": 4,
 "nbformat_minor": 2
}
