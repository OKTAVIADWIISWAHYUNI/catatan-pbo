{
 "cells": [
  {
   "attachments": {},
   "cell_type": "markdown",
   "metadata": {},
   "source": [
    "# class vs object\n",
    "![](/Gambar/class.png)\n",
    "-class adalah salah satu library python yang 'dicetak biru' atau 'blue print' dari object. Class hanya digunakan untuk kerangka dasar pada pemrograman untuk menciptakan suatu instance dari object.\n",
    "-object adalah instance dari class yang merupakan representasi nyata dar class itu sendiri.\n",
    "pada class terdapat property yang berisi data\n",
    "yang nantinya data yang ada akan diproses dan dipanggil di akhir oleh bagian yang disebut method \n",
    "-method sendiri merupakan suatu operasi berupa fungsi-fungsi yang dapat dikerjakan oleh suatu object,method didefinisikan pada class namun dipanggil pada object"
   ]
  },
  {
   "cell_type": "code",
   "execution_count": 11,
   "metadata": {},
   "outputs": [
    {
     "name": "stdout",
     "output_type": "stream",
     "text": [
      "6\n",
      "Luaspermukaan= 216\n",
      "Volume= 216\n"
     ]
    }
   ],
   "source": [
    "class Kubus:\n",
    "    def __init__(self,s):\n",
    "        self.sisi=s\n",
    "    def tampilkan(self):\n",
    "        print(self.sisi)\n",
    "    def luaspermukaan(self):\n",
    "        print(\"Luaspermukaan=\" ,self.sisi*self.sisi**2)\n",
    "    def volume(self):\n",
    "        print(\"Volume=\" ,self.sisi**3)\n",
    "Kubus1 = Kubus(6)\n",
    "Kubus1.tampilkan()\n",
    "Kubus1.luaspermukaan()\n",
    "Kubus1.volume()"
   ]
  },
  {
   "cell_type": "markdown",
   "metadata": {},
   "source": [
    "Pada materi class vs object menjelaskan tentang bagiamana suatu program bisa menampilkan hasil akhir hanya dengan memanggil definisi pada awal program yang sudah diberi gambaran pada classnya lalu diberi data dan diproses.\n",
    "keyword class diikuti dengan nama class yang kita inginkan . lebih baik kata yang diawali dengan huruf kapital \n",
    "constructor menggunakan method bawaan python yang bernama init\n",
    "metode __init__ sendiri merupakan metode komstruktor,yaitu metode khusus yang digunakan Python untuk menginisialisasi pembuatan objek dari kelas tersebut\n",
    "setiap method harus memiliki parameter self yang artinya method tersebut dimiliki dan terdaftar ke class tersebut untk membedakan dari method atau fungsi yang ada di luar class."
   ]
  },
  {
   "cell_type": "code",
   "execution_count": 10,
   "metadata": {},
   "outputs": [
    {
     "name": "stdout",
     "output_type": "stream",
     "text": [
      "Nama    :  Oktavia Dwi Iswahyuni\n",
      "NIM     :  1804411000\n",
      "IPK     :  3.0\n"
     ]
    }
   ],
   "source": [
    "class mahasiswa:\n",
    "    def __init__ (self, nama, nim, ipk):\n",
    "        self.nama = nama\n",
    "        self.nim = nim\n",
    "        self.ipk = ipk\n",
    "        \n",
    "        print(\"Nama    : \",self.nama)\n",
    "        print(\"NIM     : \",self.nim)\n",
    "        print(\"IPK     : \",self.ipk)\n",
    "        \n",
    "\n",
    "mhs1 = mahasiswa (\"Oktavia Dwi Iswahyuni\",\"1804411000\",3.0)"
   ]
  },
  {
   "cell_type": "markdown",
   "metadata": {},
   "source": [
    "# Inheritance dan Type of Inheritance\n",
    "-Inheritance atau pewarisan /penurunan adalah konsep pemrograman dimana sebuah class dapat menurunkan property dan method yang dimiliki kepada class lain.\n",
    "konsep inheritance membuat sebuah struktur class dalam kode program. class yang akan diturunkan bisa disebut sebagai class induk,super class,atau base class.sedangkan, class yang menerima penurunan bisa disebut sebagai class anak ,sub class atau heir class \n",
    "tidak semua property dan method dari kelas induk bisa diturunkan .property dan method dengan hak akses private tidak akan diturunkan ke class anak\n",
    "![](/Gambar/inher.png)"
   ]
  },
  {
   "attachments": {},
   "cell_type": "markdown",
   "metadata": {},
   "source": []
  },
  {
   "cell_type": "code",
   "execution_count": 4,
   "metadata": {},
   "outputs": [
    {
     "name": "stdout",
     "output_type": "stream",
     "text": [
      "TerryFish\n",
      "The Fish Is Swimming.\n",
      "The Fish Can Swim backwards.\n"
     ]
    }
   ],
   "source": [
    "#Default\n",
    "class Fish:\n",
    "    def __init__(self,first_name,last_name=\"Fish\"):\n",
    "        self.first_name = first_name\n",
    "        self.last_name = last_name\n",
    "    \n",
    "    def swim(self):\n",
    "        print(\"The Fish Is Swimming.\")\n",
    "    def swim_backwards(self):\n",
    "        print(\"The Fish Can Swim backwards.\")\n",
    "        \n",
    "class Trout(Fish):\n",
    "    pass\n",
    "\n",
    "\n",
    "        \n",
    "terry = Trout(\"Terry\")\n",
    "print(terry.first_name +\"\"+terry.last_name)\n",
    "terry.swim()\n",
    "terry.swim_backwards()\n"
   ]
  },
  {
   "cell_type": "markdown",
   "metadata": {},
   "source": [
    "Default merupakan konstruktor tanpa parameter yang akan menginisialisasi variabel instance sesuai dengan type datanya menggunakan pass"
   ]
  },
  {
   "cell_type": "code",
   "execution_count": 5,
   "metadata": {},
   "outputs": [
    {
     "name": "stdout",
     "output_type": "stream",
     "text": [
      "The Fish Is Swimming.\n",
      "The Fish Can Swim backwards.\n"
     ]
    }
   ],
   "source": [
    "#Overriding\n",
    "class Fish:\n",
    "    def __init__(self,first_name,last_name=\"Fish\"):\n",
    "        self.first_name = first_name\n",
    "        self.last_name = last_name\n",
    "    \n",
    "    def swim(self):\n",
    "        print(\"The Fish Is Swimming.\")\n",
    "    def swim_backwards(self):\n",
    "        print(\"The Fish Can Swim backwards.\")\n",
    "fs=Fish(\"clown,fish\")\n",
    "fs.swim()\n",
    "fs.swim_backwards()\n",
    "\n"
   ]
  },
  {
   "cell_type": "markdown",
   "metadata": {},
   "source": [
    "Overriding adalah ketika super class memiliki method dan kemudian method tersebut dideklarasikan pada sub class "
   ]
  },
  {
   "cell_type": "code",
   "execution_count": 2,
   "metadata": {},
   "outputs": [
    {
     "name": "stdout",
     "output_type": "stream",
     "text": [
      "Nama : Persegi empat\n",
      "Warna : biru\n",
      "Jumlah Garis : 4\n",
      "Nama : Persegi empat\n",
      "Warna : merah\n",
      "Jumlah Garis : 4\n",
      "Nama : Persegi empat\n",
      "Warna : biru\n",
      "Jumlah Garis : 4\n",
      "Nama : Lingkaran\n",
      "Warna : blue\n",
      "Jumlah Garis : 0\n",
      "Nama : Lingkaran\n",
      "Warna : red\n",
      "Jumlah Garis : 0\n",
      "Nama : Lingkaran\n",
      "Warna : green\n",
      "Jumlah Garis : 0\n",
      "Nama : Segitiga\n",
      "Warna : blue\n",
      "Jumlah Garis : 3\n",
      "Nama : Segitiga\n",
      "Warna : red\n",
      "Jumlah Garis : 3\n",
      "Nama : Segitiga\n",
      "Warna : grey\n",
      "Jumlah Garis : 3\n"
     ]
    }
   ],
   "source": [
    "# Super\n",
    "class shape:\n",
    "    def __init__(self,nama,warna,jumlah_garis):\n",
    "        self.nama = nama\n",
    "        self.warna = warna\n",
    "        self.jumlah_garis = jumlah_garis\n",
    "    def show(self):\n",
    "        raise NotImplementedError(\"subclass must implement abstract method\")\n",
    "class retange(shape):\n",
    "    def __init__(self,nama,warna,jumlah_garis):\n",
    "        super().__init__(nama,warna,jumlah_garis)\n",
    "    def show(self):\n",
    "        print(\"Nama :\",self.nama)\n",
    "        print(\"Warna :\",self.warna)\n",
    "        print(\"Jumlah Garis :\",self.jumlah_garis)\n",
    "class circle(shape):\n",
    "    def __init__(self,nama,warna,jumlah_garis):\n",
    "        super().__init__(nama,warna,jumlah_garis)\n",
    "    def show(self):\n",
    "        print(\"Nama :\",self.nama)\n",
    "        print(\"Warna :\",self.warna)\n",
    "        print(\"Jumlah Garis :\",self.jumlah_garis)\n",
    "class triangel(shape):\n",
    "    def __init__(self,nama,warna,jumlah_garis):\n",
    "        super().__init__(nama,warna,jumlah_garis)\n",
    "    def show(self):\n",
    "        print(\"Nama :\",self.nama)\n",
    "        print(\"Warna :\",self.warna)\n",
    "        print(\"Jumlah Garis :\",self.jumlah_garis)\n",
    "prn1=retange(\"Persegi empat\",\"biru\",\"4\")\n",
    "prn2=retange(\"Persegi empat\",\"merah\",\"4\")\n",
    "prn3=retange(\"Persegi empat\",\"biru\",\"4\")\n",
    "prn4=circle(\"Lingkaran\",\"blue\",\"0\")\n",
    "prn5=circle(\"Lingkaran\",\"red\",\"0\")\n",
    "prn6=circle(\"Lingkaran\",\"green\",\"0\")\n",
    "prn7=triangel(\"Segitiga\",\"blue\",\"3\")\n",
    "prn8=triangel(\"Segitiga\",\"red\",\"3\")\n",
    "prn9=triangel(\"Segitiga\",\"grey\",\"3\")\n",
    "\n",
    "for bentuk in (prn1,prn2,prn3,prn4,prn5,prn6,prn7,prn8,prn9):\n",
    "    bentuk.show()\n",
    "    "
   ]
  },
  {
   "cell_type": "markdown",
   "metadata": {},
   "source": [
    "Super class untuk memanggil konstruktor dan method oleh subclass yang dimiliki oleh superclass\n",
    "-bentuk umum untuk memanggil konstruktor :\n",
    "super().__init__(self)"
   ]
  },
  {
   "cell_type": "code",
   "execution_count": 9,
   "metadata": {},
   "outputs": [
    {
     "name": "stdout",
     "output_type": "stream",
     "text": [
      "nama mule : bobo\n",
      "jenisrambut : lurus\n",
      "berat : 25\n",
      "==========================\n",
      "nama kuda : nena\n",
      "jenisrambut : lurus\n",
      "=========================\n",
      "nama keledai : nini\n",
      "berat : gelombang\n"
     ]
    }
   ],
   "source": [
    "#multiple choice\n",
    "class kuda:\n",
    "    def __init__(self,nama,jenisrambut):\n",
    "        self.nama = nama\n",
    "        self.jenisrambut = jenisrambut\n",
    "    def tampilan(self):\n",
    "        print(\"nama kuda :\",self.nama)\n",
    "        print(\"jenisrambut :\",self.jenisrambut)\n",
    "        \n",
    "class keledai:\n",
    "    def __init__(self,nama,berat_badan):\n",
    "        self.nama = nama\n",
    "        self.berat_badan = berat_badan\n",
    "    def tampilan(self):\n",
    "        print(\"nama keledai :\",self.nama)\n",
    "        print(\"berat :\",self.berat_badan)\n",
    "        \n",
    "class mule(kuda,keledai):\n",
    "    def __init__(self,nama,jenisrambut,berat_badan):\n",
    "        kuda.__init__(self,nama,jenisrambut)\n",
    "        keledai.__init__(self,nama,berat_badan)\n",
    "    def tampilanproperti(self):\n",
    "        print(\"nama mule :\",self.nama)\n",
    "        print(\"jenisrambut :\",self.jenisrambut)\n",
    "        print(\"berat :\",self.berat_badan)\n",
    "        \n",
    "mule = mule(\"bobo\",\"lurus\",\"25\")\n",
    "mule.tampilanproperti()\n",
    "print(\"==========================\")\n",
    "kuda = kuda(\"nena\",\"lurus\")\n",
    "kuda.tampilan()\n",
    "print(\"=========================\")\n",
    "keledai=keledai(\"nini\",\"gelombang\")\n",
    "keledai.tampilan() \n"
   ]
  },
  {
   "cell_type": "markdown",
   "metadata": {},
   "source": [
    "Multiple Inheritance (Pewarisan Jamak)\n",
    "Kelas yang diturunkan lebih dari satu kelas yang berbeda(jumlah kelas dasarnya lebih dari satu)"
   ]
  },
  {
   "attachments": {},
   "cell_type": "markdown",
   "metadata": {},
   "source": [
    "# Polymorpishm\n",
    "![](/Gambar/polymorpishm.png)\n",
    "Polymorphism adalah suatu object dapat memiliki berbagai bentuk, sebagai object dari class sendiri atau object dari superclassnya dan memiliki kemampuan suatu method untuk bekerja dengan lebih dari satu tipe argumen."
   ]
  },
  {
   "cell_type": "code",
   "execution_count": 6,
   "metadata": {},
   "outputs": [
    {
     "name": "stdout",
     "output_type": "stream",
     "text": [
      "The shark's skeleton is made of catlage.\n",
      "The clownfish's skeleton is made of bone.\n",
      "The shark is swimming.\n",
      "The clownfish is swimming\n",
      "The shark is swimming.\n",
      "The shark cannot swmim backwads,but can sink backwards.\n",
      "The shark's skeleton is made of catlage.\n",
      "The clownfish is swimming\n",
      "The clownfish cannot swim backwads\n",
      "The clownfish's skeleton is made of bone.\n"
     ]
    }
   ],
   "source": [
    "#Polymorpishm with a function\n",
    "class Shark():\n",
    "    def swim(self):\n",
    "        print(\"The shark is swimming.\")\n",
    "    def swim_backwards(self):\n",
    "        print(\"The shark cannot swmim backwads,but can sink backwards.\")\n",
    "    def skeleton(self):\n",
    "        print(\"The shark's skeleton is made of catlage.\")\n",
    "class Clownfish():\n",
    "    def swim(self):\n",
    "        print(\"The clownfish is swimming\")\n",
    "    def swim_backwards(self):\n",
    "        print(\"The clownfish cannot swim backwads\")\n",
    "    def skeleton(self):\n",
    "        print(\"The clownfish's skeleton is made of bone.\")\n",
    "        \n",
    "sammy = Shark()\n",
    "sammy.skeleton()\n",
    "casey = Clownfish()\n",
    "casey.skeleton()\n",
    "def in_the_pacific(fish):\n",
    "    fish.swim()\n",
    "    \n",
    "in_the_pacific(sammy)\n",
    "in_the_pacific(casey)\n",
    "\n",
    "sammy = Shark()\n",
    "casey = Clownfish()\n",
    "for fish in(sammy,casey):\n",
    "    fish.swim()\n",
    "    fish.swim_backwards()\n",
    "    fish.skeleton()\n"
   ]
  },
  {
   "cell_type": "markdown",
   "metadata": {},
   "source": [
    ">>Polymorpishm with a function merupakan program pada polimor dengan menggunakan fungsi untuk pemanggilan programnya maka\n",
    "hasil yang keluar pada output sesuai dengan apa yang diinputkan pada fugsi didalam program tersebut."
   ]
  },
  {
   "cell_type": "code",
   "execution_count": 7,
   "metadata": {},
   "outputs": [
    {
     "name": "stdout",
     "output_type": "stream",
     "text": [
      "Documents1:show Pdf contents!\n",
      "Documents2:show Pdf contents!\n",
      "Documents3:show word contents!\n"
     ]
    }
   ],
   "source": [
    "#Polymorpishm with a method\n",
    "class Document:\n",
    "    def __init__(self,name):\n",
    "        self.name = name\n",
    "        \n",
    "    def show(self):\n",
    "        raiseNotImplementedError(\"Subclass must implement abstract method\")\n",
    "class Pdf(Document):\n",
    "    def show(self):\n",
    "        return'show Pdf contents!'\n",
    "class Word(Document):\n",
    "    def show(self):\n",
    "        return'show word contents!'\n",
    "    \n",
    "documents = [Pdf('Documents1'),\n",
    "            Pdf('Documents2'),\n",
    "            Word('Documents3')]\n",
    "\n",
    "for document in documents:\n",
    "    print(document.name+':'+document.show())"
   ]
  },
  {
   "cell_type": "markdown",
   "metadata": {},
   "source": [
    ">>Polymorpishm with a method merupakan program pada polimor dengan memangil program pada methodnya"
   ]
  },
  {
   "cell_type": "code",
   "execution_count": 8,
   "metadata": {},
   "outputs": [
    {
     "name": "stdout",
     "output_type": "stream",
     "text": [
      "Kucing : Berjalan dengan menggunakan empat kaki\n",
      "Kucing : Bersuara mengeong\n",
      "Anjing : Berjalan dengan menggunakan empat kaki\n",
      "Anjing : Bersuara dengan menggonggong\n",
      "Ular : Berjalan melata\n",
      "Ular : Bersuara ststsstttssss\n"
     ]
    }
   ],
   "source": [
    "#Polymorpishm with a abstract class\n",
    "class binatang():\n",
    "    def __init__(self,nama):\n",
    "        self.nama = nama\n",
    "    def caraberjalan(self):\n",
    "        raise NotImplementedError(\"ini Abstrak Class\")\n",
    "    def carabersuara(self):\n",
    "        raise NotImplementedError(\"ini Abstrak Class\")\n",
    "class kucing(binatang):\n",
    "    def caraberjalan(self):\n",
    "        return(\"Berjalan dengan menggunakan empat kaki\")\n",
    "    def carabersuara(self):\n",
    "        return(\"Bersuara mengeong\")\n",
    "class anjing(binatang):\n",
    "    def caraberjalan(self):\n",
    "        return(\"Berjalan dengan menggunakan empat kaki\")\n",
    "    def carabersuara(self):\n",
    "        return(\"Bersuara dengan menggonggong\")\n",
    "class ular(binatang):\n",
    "    def caraberjalan(self):\n",
    "        return(\"Berjalan melata\")\n",
    "    def carabersuara(self):\n",
    "        return(\"Bersuara ststsstttssss\")\n",
    "    \n",
    "\n",
    "binatangs=[kucing(\"Kucing\"),anjing(\"Anjing\"),ular(\"Ular\")]\n",
    "for binatang in binatangs:\n",
    "    print(binatang.nama+\" : \"+binatang.caraberjalan())\n",
    "    print(binatang.nama+\" : \"+binatang.carabersuara())\n",
    "    "
   ]
  },
  {
   "cell_type": "markdown",
   "metadata": {},
   "source": [
    ">>Polymorpishm dengan abstract class adalah penggunaan abstract class pada awal programnya dan pemanggilan ulang dengan return pada definisi selanjutnya"
   ]
  }
 ],
 "metadata": {
  "kernelspec": {
   "display_name": "Python 3",
   "language": "python",
   "name": "python3"
  },
  "language_info": {
   "codemirror_mode": {
    "name": "ipython",
    "version": 3
   },
   "file_extension": ".py",
   "mimetype": "text/x-python",
   "name": "python",
   "nbconvert_exporter": "python",
   "pygments_lexer": "ipython3",
   "version": "3.7.1"
  }
 },
 "nbformat": 4,
 "nbformat_minor": 2
}
